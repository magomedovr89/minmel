{
 "cells": [
  {
   "cell_type": "code",
   "execution_count": 13,
   "metadata": {
    "collapsed": true
   },
   "outputs": [],
   "source": [
    "import overpy"
   ]
  },
  {
   "cell_type": "code",
   "execution_count": 14,
   "outputs": [],
   "source": [
    "api = overpy.Overpass()"
   ],
   "metadata": {
    "collapsed": false
   }
  },
  {
   "cell_type": "code",
   "execution_count": 15,
   "outputs": [],
   "source": [
    "result = api.query(\"\"\"\n",
    "    way(44.181073,44.784200,44.468061,45.734029) [\"waterway\"];\n",
    "    (._;>;);\n",
    "    out body;\n",
    "    \"\"\")"
   ],
   "metadata": {
    "collapsed": false
   }
  },
  {
   "cell_type": "code",
   "execution_count": 16,
   "outputs": [],
   "source": [
    "canal = ['Старо-грузинский', 'Грузинский']"
   ],
   "metadata": {
    "collapsed": false
   }
  },
  {
   "cell_type": "code",
   "execution_count": 20,
   "outputs": [
    {
     "name": "stdout",
     "output_type": "stream",
     "text": [
      "Name: Сухая Горькая\n",
      "Name: n/a\n",
      "Name: n/a\n",
      "Name: канал Караногайская ветвь\n",
      "Name: n/a\n",
      "Name: Ногайский канал\n",
      "Name: n/a\n",
      "Name: n/a\n",
      "Name: n/a\n",
      "Name: n/a\n",
      "Name: n/a\n",
      "Name: канал Каясулинский\n",
      "Name: канал Каясулинский\n",
      "Name: n/a\n",
      "Name: канал Каясулинский\n",
      "Name: n/a\n",
      "Name: n/a\n",
      "Name: канал Каясулинский\n",
      "Name: n/a\n",
      "Name: n/a\n",
      "Name: канал Каясулинский\n",
      "Name: канал Каясулинский\n",
      "Name: n/a\n",
      "Name: n/a\n",
      "Name: n/a\n",
      "Name: канал Каясулинский\n",
      "Name: n/a\n",
      "Name: n/a\n",
      "Name: n/a\n",
      "Name: n/a\n",
      "Name: n/a\n",
      "Name: n/a\n",
      "Name: Ачикулакский канал\n",
      "Name: Ачикулакский канал\n",
      "Name: n/a\n",
      "Name: n/a\n",
      "Name: n/a\n",
      "Name: n/a\n",
      "Name: n/a\n",
      "Name: n/a\n",
      "Name: n/a\n",
      "Name: n/a\n",
      "Name: n/a\n",
      "Name: n/a\n",
      "Name: n/a\n",
      "Name: n/a\n",
      "Name: n/a\n",
      "Name: n/a\n",
      "Name: n/a\n",
      "Name: n/a\n",
      "Name: n/a\n",
      "Name: n/a\n",
      "Name: n/a\n",
      "Name: n/a\n",
      "Name: n/a\n",
      "Name: n/a\n",
      "Name: n/a\n",
      "Name: n/a\n",
      "Name: n/a\n",
      "Name: n/a\n",
      "Name: n/a\n",
      "Name: n/a\n",
      "Name: n/a\n",
      "Name: n/a\n",
      "Name: n/a\n",
      "Name: n/a\n",
      "Name: n/a\n",
      "Name: n/a\n",
      "Name: n/a\n",
      "Name: n/a\n",
      "Name: n/a\n",
      "Name: n/a\n",
      "Name: n/a\n",
      "Name: n/a\n",
      "Name: n/a\n",
      "Name: n/a\n",
      "Name: n/a\n",
      "Name: n/a\n",
      "Name: n/a\n",
      "Name: n/a\n",
      "Name: n/a\n",
      "Name: n/a\n",
      "Name: n/a\n",
      "Name: n/a\n",
      "Name: n/a\n",
      "Name: n/a\n",
      "Name: n/a\n",
      "Name: n/a\n",
      "Name: n/a\n",
      "Name: n/a\n",
      "Name: n/a\n",
      "Name: n/a\n",
      "Name: n/a\n",
      "Name: n/a\n",
      "Name: n/a\n",
      "Name: n/a\n",
      "Name: n/a\n",
      "Name: n/a\n",
      "Name: n/a\n",
      "Name: n/a\n",
      "Name: n/a\n",
      "Name: n/a\n",
      "Name: n/a\n",
      "Name: n/a\n",
      "Name: n/a\n",
      "Name: n/a\n",
      "Name: n/a\n",
      "Name: n/a\n",
      "Name: n/a\n",
      "Name: n/a\n",
      "Name: n/a\n",
      "Name: n/a\n",
      "Name: n/a\n",
      "Name: n/a\n",
      "Name: n/a\n",
      "Name: n/a\n",
      "Name: n/a\n",
      "Name: n/a\n",
      "Name: n/a\n",
      "Name: n/a\n",
      "Name: n/a\n",
      "Name: n/a\n",
      "Name: n/a\n",
      "Name: n/a\n",
      "Name: n/a\n",
      "Name: n/a\n",
      "Name: n/a\n",
      "Name: n/a\n",
      "Name: n/a\n",
      "Name: n/a\n",
      "Name: n/a\n",
      "Name: n/a\n",
      "Name: n/a\n",
      "Name: n/a\n",
      "Name: n/a\n",
      "Name: n/a\n",
      "Name: канал Караногайская ветвь\n",
      "Name: n/a\n",
      "Name: n/a\n",
      "Name: Ногайский канал\n",
      "Name: Ногайский канал\n",
      "Name: канал Караногайская ветвь\n"
     ]
    }
   ],
   "source": [
    "for way in result.ways:\n",
    "    # print(way.tags)\n",
    "    print(\"Name: %s\" % way.tags.get(\"name\", \"n/a\"))\n",
    "\n",
    "\n",
    "\n",
    "    # if way.tags.get(\"name\", \"n/a\") == 'канал Караногайская ветвь':\n",
    "    #     print(\"Name: %s\" % way.tags.get(\"name\", \"n/a\"))\n",
    "    #     print(\"  Highway: %s\" % way.tags.get(\"highway\", \"n/a\"))\n",
    "    #     print(\"  Nodes:\")\n",
    "    #\n",
    "    #     for node in way.nodes:\n",
    "    #         print(\"    Lat: %f, Lon: %f\" % (node.lat, node.lon))\n"
   ],
   "metadata": {
    "collapsed": false
   }
  },
  {
   "cell_type": "code",
   "execution_count": null,
   "outputs": [],
   "source": [],
   "metadata": {
    "collapsed": false
   }
  }
 ],
 "metadata": {
  "kernelspec": {
   "display_name": "Python 3",
   "language": "python",
   "name": "python3"
  },
  "language_info": {
   "codemirror_mode": {
    "name": "ipython",
    "version": 2
   },
   "file_extension": ".py",
   "mimetype": "text/x-python",
   "name": "python",
   "nbconvert_exporter": "python",
   "pygments_lexer": "ipython2",
   "version": "2.7.6"
  }
 },
 "nbformat": 4,
 "nbformat_minor": 0
}
